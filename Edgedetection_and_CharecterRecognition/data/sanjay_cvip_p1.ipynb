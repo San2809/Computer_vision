{
 "cells": [
  {
   "cell_type": "code",
   "execution_count": 1,
   "metadata": {},
   "outputs": [],
   "source": [
    "import cv2"
   ]
  },
  {
   "cell_type": "code",
   "execution_count": 2,
   "metadata": {},
   "outputs": [],
   "source": [
    "import numpy as np"
   ]
  },
  {
   "cell_type": "code",
   "execution_count": 37,
   "metadata": {},
   "outputs": [],
   "source": [
    "img = np.random.rand()"
   ]
  },
  {
   "cell_type": "code",
   "execution_count": 38,
   "metadata": {},
   "outputs": [
    {
     "data": {
      "text/plain": [
       "array([[2, 1, 0, 4],\n",
       "       [3, 2, 3, 0],\n",
       "       [3, 1, 2, 0],\n",
       "       [1, 2, 3, 0]])"
      ]
     },
     "execution_count": 38,
     "metadata": {},
     "output_type": "execute_result"
    }
   ],
   "source": [
    "img =np.random.randint(5, size=(4, 4))\n",
    "img"
   ]
  },
  {
   "cell_type": "code",
   "execution_count": 16,
   "metadata": {},
   "outputs": [
    {
     "ename": "IndexError",
     "evalue": "list assignment index out of range",
     "output_type": "error",
     "traceback": [
      "\u001b[1;31m---------------------------------------------------------------------------\u001b[0m",
      "\u001b[1;31mIndexError\u001b[0m                                Traceback (most recent call last)",
      "\u001b[1;32m<ipython-input-16-cb455eb3b502>\u001b[0m in \u001b[0;36m<module>\u001b[1;34m()\u001b[0m\n\u001b[0;32m      2\u001b[0m \u001b[1;32mfor\u001b[0m \u001b[0mi\u001b[0m \u001b[1;32min\u001b[0m \u001b[0mrange\u001b[0m\u001b[1;33m(\u001b[0m\u001b[1;36m0\u001b[0m\u001b[1;33m,\u001b[0m\u001b[0mimg\u001b[0m\u001b[1;33m.\u001b[0m\u001b[0mshape\u001b[0m\u001b[1;33m[\u001b[0m\u001b[1;36m0\u001b[0m\u001b[1;33m]\u001b[0m\u001b[1;33m)\u001b[0m\u001b[1;33m:\u001b[0m\u001b[1;33m\u001b[0m\u001b[0m\n\u001b[0;32m      3\u001b[0m     \u001b[1;32mfor\u001b[0m \u001b[0mj\u001b[0m \u001b[1;32min\u001b[0m \u001b[0mrange\u001b[0m\u001b[1;33m(\u001b[0m\u001b[1;36m0\u001b[0m\u001b[1;33m,\u001b[0m\u001b[0mimg\u001b[0m\u001b[1;33m.\u001b[0m\u001b[0mshape\u001b[0m\u001b[1;33m[\u001b[0m\u001b[1;36m1\u001b[0m\u001b[1;33m]\u001b[0m\u001b[1;33m)\u001b[0m\u001b[1;33m:\u001b[0m\u001b[1;33m\u001b[0m\u001b[0m\n\u001b[1;32m----> 4\u001b[1;33m         \u001b[0mimg_new\u001b[0m\u001b[1;33m[\u001b[0m\u001b[0mi\u001b[0m\u001b[1;33m]\u001b[0m\u001b[1;33m[\u001b[0m\u001b[0mj\u001b[0m\u001b[1;33m]\u001b[0m\u001b[1;33m=\u001b[0m\u001b[1;36m0\u001b[0m\u001b[1;33m\u001b[0m\u001b[0m\n\u001b[0m\u001b[0;32m      5\u001b[0m \u001b[1;31m#         if(i==0 or i==img.shape[0] or j==0 or j==img.shape[1]):\u001b[0m\u001b[1;33m\u001b[0m\u001b[1;33m\u001b[0m\u001b[0m\n\u001b[0;32m      6\u001b[0m \u001b[1;31m#             img_new[i][j]=0\u001b[0m\u001b[1;33m\u001b[0m\u001b[1;33m\u001b[0m\u001b[0m\n",
      "\u001b[1;31mIndexError\u001b[0m: list assignment index out of range"
     ]
    }
   ],
   "source": [
    "img_new = [[1],[2],[2]]\n",
    "for i in range(0,img.shape[0]):\n",
    "    for j in range(0,img.shape[1]):\n",
    "        img_new[i][j]=0\n",
    "#         if(i==0 or i==img.shape[0] or j==0 or j==img.shape[1]):\n",
    "#             img_new[i][j]=0\n",
    "#         else:\n",
    "#             img_new[i][j]=img[i-1][j-1]\n",
    "    "
   ]
  },
  {
   "cell_type": "code",
   "execution_count": 39,
   "metadata": {},
   "outputs": [],
   "source": [
    "w= img.shape[0]\n",
    "h=img.shape[1]\n",
    "img_new = [[0 for x in range(w+2)] for y in range(h+2)] "
   ]
  },
  {
   "cell_type": "code",
   "execution_count": 40,
   "metadata": {},
   "outputs": [
    {
     "data": {
      "text/plain": [
       "[[0, 0, 0, 0, 0, 0],\n",
       " [0, 0, 0, 0, 0, 0],\n",
       " [0, 0, 0, 0, 0, 0],\n",
       " [0, 0, 0, 0, 0, 0],\n",
       " [0, 0, 0, 0, 0, 0],\n",
       " [0, 0, 0, 0, 0, 0]]"
      ]
     },
     "execution_count": 40,
     "metadata": {},
     "output_type": "execute_result"
    }
   ],
   "source": [
    "img_new"
   ]
  },
  {
   "cell_type": "code",
   "execution_count": 41,
   "metadata": {},
   "outputs": [
    {
     "data": {
      "text/plain": [
       "[[0, 0, 0, 0, 0, 0],\n",
       " [0, 2, 1, 0, 4, 0],\n",
       " [0, 3, 2, 3, 0, 0],\n",
       " [0, 3, 1, 2, 0, 0],\n",
       " [0, 1, 2, 3, 0, 0],\n",
       " [0, 0, 0, 0, 0, 0]]"
      ]
     },
     "execution_count": 41,
     "metadata": {},
     "output_type": "execute_result"
    }
   ],
   "source": [
    "for i in range(1,w+1):\n",
    "    for j in range(1,h+1):\n",
    "#         if(i==0 or i==w+1 or j==0 or j==h+1):\n",
    "#             img_new[i][j]=0\n",
    "#         else:\n",
    "        img_new[i][j]=img[i-1][j-1]\n",
    "img_new\n",
    "    "
   ]
  },
  {
   "cell_type": "code",
   "execution_count": 86,
   "metadata": {},
   "outputs": [],
   "source": []
  },
  {
   "cell_type": "code",
   "execution_count": 85,
   "metadata": {},
   "outputs": [],
   "source": []
  },
  {
   "cell_type": "code",
   "execution_count": 87,
   "metadata": {},
   "outputs": [],
   "source": []
  },
  {
   "cell_type": "code",
   "execution_count": 88,
   "metadata": {},
   "outputs": [
    {
     "ename": "ValueError",
     "evalue": "setting an array element with a sequence.",
     "output_type": "error",
     "traceback": [
      "\u001b[1;31m---------------------------------------------------------------------------\u001b[0m",
      "\u001b[1;31mValueError\u001b[0m                                Traceback (most recent call last)",
      "\u001b[1;32m<ipython-input-88-7479e4d7ce9a>\u001b[0m in \u001b[0;36m<module>\u001b[1;34m()\u001b[0m\n\u001b[1;32m----> 1\u001b[1;33m \u001b[0mres\u001b[0m \u001b[1;33m=\u001b[0m \u001b[0mconvolve2d\u001b[0m\u001b[1;33m(\u001b[0m\u001b[0mimg\u001b[0m\u001b[1;33m,\u001b[0m\u001b[0msobel\u001b[0m\u001b[1;33m)\u001b[0m\u001b[1;33m\u001b[0m\u001b[0m\n\u001b[0m",
      "\u001b[1;32m<ipython-input-86-5f7a058db43b>\u001b[0m in \u001b[0;36mconvolve2d\u001b[1;34m(img, kernel)\u001b[0m\n\u001b[0;32m     29\u001b[0m     \u001b[1;32mfor\u001b[0m \u001b[0mi\u001b[0m \u001b[1;32min\u001b[0m \u001b[0mrange\u001b[0m\u001b[1;33m(\u001b[0m\u001b[1;36m1\u001b[0m\u001b[1;33m,\u001b[0m\u001b[0mh\u001b[0m\u001b[1;33m+\u001b[0m\u001b[1;36m1\u001b[0m\u001b[1;33m)\u001b[0m\u001b[1;33m:\u001b[0m\u001b[1;33m\u001b[0m\u001b[0m\n\u001b[0;32m     30\u001b[0m         \u001b[1;32mfor\u001b[0m \u001b[0mj\u001b[0m \u001b[1;32min\u001b[0m \u001b[0mrange\u001b[0m\u001b[1;33m(\u001b[0m\u001b[1;36m1\u001b[0m\u001b[1;33m,\u001b[0m\u001b[0mw\u001b[0m\u001b[1;33m+\u001b[0m\u001b[1;36m1\u001b[0m\u001b[1;33m)\u001b[0m\u001b[1;33m:\u001b[0m\u001b[1;33m\u001b[0m\u001b[0m\n\u001b[1;32m---> 31\u001b[1;33m             \u001b[0mimg_pad\u001b[0m\u001b[1;33m[\u001b[0m\u001b[0mi\u001b[0m\u001b[1;33m]\u001b[0m\u001b[1;33m[\u001b[0m\u001b[0mj\u001b[0m\u001b[1;33m]\u001b[0m\u001b[1;33m=\u001b[0m\u001b[0mimg\u001b[0m\u001b[1;33m[\u001b[0m\u001b[0mi\u001b[0m\u001b[1;33m-\u001b[0m\u001b[1;36m1\u001b[0m\u001b[1;33m]\u001b[0m\u001b[1;33m[\u001b[0m\u001b[0mj\u001b[0m\u001b[1;33m-\u001b[0m\u001b[1;36m1\u001b[0m\u001b[1;33m]\u001b[0m\u001b[1;33m\u001b[0m\u001b[0m\n\u001b[0m\u001b[0;32m     32\u001b[0m     \u001b[0mk_ht\u001b[0m \u001b[1;33m=\u001b[0m \u001b[0mkernel\u001b[0m\u001b[1;33m.\u001b[0m\u001b[0mshape\u001b[0m\u001b[1;33m[\u001b[0m\u001b[1;36m0\u001b[0m\u001b[1;33m]\u001b[0m\u001b[1;33m//\u001b[0m\u001b[1;36m2\u001b[0m\u001b[1;33m\u001b[0m\u001b[0m\n\u001b[0;32m     33\u001b[0m     \u001b[0mk_wd\u001b[0m \u001b[1;33m=\u001b[0m \u001b[0mkernel\u001b[0m\u001b[1;33m.\u001b[0m\u001b[0mshape\u001b[0m\u001b[1;33m[\u001b[0m\u001b[1;36m1\u001b[0m\u001b[1;33m]\u001b[0m\u001b[1;33m//\u001b[0m\u001b[1;36m2\u001b[0m\u001b[1;33m\u001b[0m\u001b[0m\n",
      "\u001b[1;31mValueError\u001b[0m: setting an array element with a sequence."
     ]
    }
   ],
   "source": []
  },
  {
   "cell_type": "code",
   "execution_count": 82,
   "metadata": {},
   "outputs": [
    {
     "data": {
      "text/plain": [
       "(258, 258)"
      ]
     },
     "execution_count": 82,
     "metadata": {},
     "output_type": "execute_result"
    }
   ],
   "source": [
    "a=np.asarray(res)\n",
    "a.shape"
   ]
  },
  {
   "cell_type": "code",
   "execution_count": 83,
   "metadata": {},
   "outputs": [],
   "source": [
    "cv2.imshow(\"resimage\",a)\n",
    "cv2.waitKey(0)\n",
    "cv2.destroyAllWindows()"
   ]
  },
  {
   "cell_type": "code",
   "execution_count": 151,
   "metadata": {},
   "outputs": [],
   "source": [
    "img = cv2.imread(r\"C:\\Users\\aditya vikram\\Desktop\\project1\\project1\\data\\proj1-task1.jpg\",0)\n",
    "sobel = [[1,0,-1],[2,0,-2],[1,0,-1]]\n",
    "cv2.imshow(\"ts\",img)\n",
    "cv2.waitKey(0)\n",
    "cv2.destroyAllWindows()\n",
    "sobel =np.asarray(sobel)\n",
    "def convolve2d(img, kernel):\n",
    "    \"\"\"Convolves a given image and a given kernel.\n",
    "\n",
    "    Steps:\n",
    "        (1) flips the either the img or the kernel.\n",
    "        (2) pads the img or the flipped img.\n",
    "            this step handles pixels along the border of the img,\n",
    "            and makes sure that the output img is of the same size as the input image.\n",
    "        (3) applies the flipped kernel to the image or the kernel to the flipped image,\n",
    "            using nested for loop.\n",
    "\n",
    "    Args:\n",
    "        img: nested list (int), image.\n",
    "        kernel: nested list (int), kernel.\n",
    "\n",
    "    Returns:\n",
    "        img_conv: nested list (int), image.\n",
    "    \"\"\"\n",
    "    # TODO: implement this function.\n",
    "    k_flipped = [[0 for x in range(kernel.shape[0])] for y in range(kernel.shape[1])]\n",
    "    for i in range(kernel.shape[0]):\n",
    "        for j in range (kernel.shape[1]):\n",
    "            k_flipped[i][j]=kernel[kernel.shape[0]-i-1][kernel.shape[1]-j-1]\n",
    "    print(k_flipped)\n",
    "    h= img.shape[0]\n",
    "    w=img.shape[1]\n",
    "    img_pad=[[0 for x in range(h+2)] for y in range(w+2)]\n",
    "    print(np.shape(img_pad))\n",
    "    for i in range(1,h+1):\n",
    "        for j in range(1,w+1):\n",
    "            img_pad[i][j]=img[i-1][j-1]\n",
    "    k_ht = kernel.shape[0]//2\n",
    "    k_wd = kernel.shape[1]//2\n",
    "    #img_conv=[[0 for x in range(img_pad.shape[0])] for y in range(img_pad.shape[1])]\n",
    "    img_conv = []\n",
    "    img_conv_elem = []\n",
    "    m=0\n",
    "    n=0\n",
    "    sm=0\n",
    "    for i in range(0,len(img_pad)-2):\n",
    "        for j in range(0,len(img_pad)-2):\n",
    "            m=0\n",
    "            for k in range(i,i+3):\n",
    "                for l in range(j,j+3):\n",
    "                    sm = sm + img_pad[k][l] * k_flipped[m][n]\n",
    "                    n=n+1\n",
    "                n = 0 \n",
    "                m=m+1\n",
    "            img_conv_elem.append(sm)\n",
    "            sum = 0\n",
    "        img_conv.append(img_conv_elem)\n",
    "        img_conv_elem = []\n",
    "\n",
    "    print(np.shape(img_conv))\n",
    "    #raise NotImplementedError\n",
    "    return img_conv"
   ]
  },
  {
   "cell_type": "code",
   "execution_count": 160,
   "metadata": {
    "scrolled": false
   },
   "outputs": [
    {
     "name": "stdout",
     "output_type": "stream",
     "text": [
      "[[-1, 0, 1], [-2, 0, 2], [-1, 0, 1]]\n",
      "(258, 258)\n",
      "(256, 256)\n"
     ]
    }
   ],
   "source": [
    "res=convolve2d(img,sobel)"
   ]
  },
  {
   "cell_type": "code",
   "execution_count": 179,
   "metadata": {},
   "outputs": [
    {
     "data": {
      "text/plain": [
       "array([[ 111,  111,  111, ...,   51,   51,  -30],\n",
       "       [ 118,  118,  118, ...,   38,   38,  -70],\n",
       "       [  78,   78,   78, ...,    0,    0, -109],\n",
       "       ...,\n",
       "       [-107, -103,  -95, ...,    7,    7,  -62],\n",
       "       [ -50,  -46,  -38, ...,   62,   62,   -6],\n",
       "       [   3,    6,   12, ...,   87,   87,   36]])"
      ]
     },
     "execution_count": 179,
     "metadata": {},
     "output_type": "execute_result"
    }
   ],
   "source": [
    "res =np.asarray(res)\n",
    "res\n"
   ]
  },
  {
   "cell_type": "code",
   "execution_count": 157,
   "metadata": {},
   "outputs": [],
   "source": [
    "cv2.imshow(\"ts\",np.asarray(res))\n",
    "cv2.waitKey(0)\n",
    "cv2.destroyAllWindows()\n"
   ]
  },
  {
   "cell_type": "code",
   "execution_count": 117,
   "metadata": {},
   "outputs": [],
   "source": [
    "test = np.random.randint(255,size=(6,6))"
   ]
  },
  {
   "cell_type": "code",
   "execution_count": 118,
   "metadata": {},
   "outputs": [
    {
     "data": {
      "text/plain": [
       "array([[ 75, 161, 140, 130,  49,  61],\n",
       "       [  6, 143, 203,   7, 134, 108],\n",
       "       [213, 213,  99, 169, 182, 129],\n",
       "       [220, 251, 223,  81,   3, 167],\n",
       "       [ 28, 178, 167,  14, 172, 232],\n",
       "       [ 91, 133,  44, 207,  16, 118]])"
      ]
     },
     "execution_count": 118,
     "metadata": {},
     "output_type": "execute_result"
    }
   ],
   "source": [
    "test"
   ]
  },
  {
   "cell_type": "code",
   "execution_count": 122,
   "metadata": {},
   "outputs": [
    {
     "name": "stdout",
     "output_type": "stream",
     "text": [
      "[[-1, 0, 1], [-2, 0, 2], [-1, 0, 1]]\n"
     ]
    }
   ],
   "source": [
    "t = convolve2d(test,sobel)"
   ]
  },
  {
   "cell_type": "code",
   "execution_count": 123,
   "metadata": {},
   "outputs": [
    {
     "data": {
      "text/plain": [
       "[[0, 0, 0, 0, 0, 0, 0, 0],\n",
       " [0, 0, 0, 0, 0, 0, 0, 0],\n",
       " [0, 0, -75, -161, -140, 0, 0, 0],\n",
       " [0, 0, -6, -143, -203, 0, 0, 0],\n",
       " [0, 0, -213, -213, -99, 0, 0, 0],\n",
       " [0, 0, 0, 0, 0, 0, 0, 0],\n",
       " [0, 0, 0, 0, 0, 0, 0, 0],\n",
       " [0, 0, 0, 0, 0, 0, 0, 0]]"
      ]
     },
     "execution_count": 123,
     "metadata": {},
     "output_type": "execute_result"
    }
   ],
   "source": [
    "t"
   ]
  },
  {
   "cell_type": "code",
   "execution_count": 126,
   "metadata": {},
   "outputs": [],
   "source": [
    "def elmwise_mul(a,b):\n",
    "    c = []\n",
    "    for i in range(0,len(a)):\n",
    "        temp=[]\n",
    "        for j in range(0,len(a[0])):\n",
    "            temp.append(a[i][j] * b[i][j])\n",
    "        c.append(temp)\n",
    "    return c\n",
    "\n",
    "# used to flatten multi dimensional array to single dimension to find sum, max, min etc.\n",
    "def flatten_arr(arr):\n",
    "    result = []\n",
    "    for i in range(len(arr)):\n",
    "        for j in range(len(arr[0])):\n",
    "            result.append(arr[i][j])\n",
    "    return result\n",
    "def conv(img, kernel, kernel_size):        \n",
    "    result = []\n",
    "    # flips the kernel for convolution\n",
    "    kernel = kernel[::-1][::-1]\n",
    "    for i in range(img.shape[0]):\n",
    "        if i <= img.shape[0] - kernel_size:\n",
    "            row = []\n",
    "            for j in range(img.shape[1]):\n",
    "                if j <= img.shape[1] - kernel_size:\n",
    "                    # element wise multiplication with kernel and calculates sum and appends to the result\n",
    "                    img_arr = np.asarray(img[i:i+kernel_size, j:j+kernel_size])\n",
    "                    temp = elmwise_mul(kernel, img_arr)\n",
    "                    temp = sum(flatten_arr(temp))\n",
    "                    row.append(temp)\n",
    "            result.append(row)\n",
    "    return result\n"
   ]
  },
  {
   "cell_type": "code",
   "execution_count": 132,
   "metadata": {},
   "outputs": [
    {
     "name": "stdout",
     "output_type": "stream",
     "text": [
      "[[  0   0   0 ...   0   0   0]\n",
      " [  0   0   0 ...   0   0   0]\n",
      " [  0   0   0 ...   0   0   0]\n",
      " ...\n",
      " [ -4  -8 -12 ...   0   0   0]\n",
      " [ -4  -8 -12 ...   0   0   0]\n",
      " [ -4  -8 -12 ...   0   0   0]]\n"
     ]
    }
   ],
   "source": [
    "a=np.asarray(conv(img,sobel,3))\n",
    "a.shape\n"
   ]
  },
  {
   "cell_type": "code",
   "execution_count": 131,
   "metadata": {},
   "outputs": [
    {
     "data": {
      "text/plain": [
       "-1"
      ]
     },
     "execution_count": 131,
     "metadata": {},
     "output_type": "execute_result"
    }
   ],
   "source": [
    "cv2.imshow(\"tr\", a)\n",
    "cv2.waitKey(0)"
   ]
  },
  {
   "cell_type": "code",
   "execution_count": 140,
   "metadata": {},
   "outputs": [
    {
     "name": "stdout",
     "output_type": "stream",
     "text": [
      "17\n"
     ]
    }
   ],
   "source": [
    "print(a[20][80])"
   ]
  },
  {
   "cell_type": "code",
   "execution_count": 182,
   "metadata": {},
   "outputs": [],
   "source": [
    "def norml(img, flag = False):\n",
    "    max=0\n",
    "    min =0\n",
    "    elem = []\n",
    "    nor = []\n",
    "    n = len(img)\n",
    "    for i in range(0,n):\n",
    "        for j in range(0,n):\n",
    "            if(img[i][j]>max):\n",
    "                max = img[i][j]\n",
    "            if(img[i][j]<min):\n",
    "                min = img[i][j]\n",
    "    diff = max - min\n",
    "    \n",
    "    for i in range(0,n):\n",
    "        for j in range(0,n):\n",
    "            # Multiplying by 255 here check\n",
    "            if(flag == False):\n",
    "                elem.append( ((img[i][j]-min)/diff) * 255 )\n",
    "            elif(flag == True):\n",
    "                elem.append( ((img[i][j]-min)/diff))\n",
    "        nor.append(elem)\n",
    "        elem = []\n",
    "    #raise NotImplementedError\n",
    "    return nor"
   ]
  },
  {
   "cell_type": "code",
   "execution_count": 183,
   "metadata": {},
   "outputs": [],
   "source": [
    "n = norml(res)"
   ]
  },
  {
   "cell_type": "code",
   "execution_count": 185,
   "metadata": {},
   "outputs": [
    {
     "data": {
      "text/plain": [
       "256"
      ]
     },
     "execution_count": 185,
     "metadata": {},
     "output_type": "execute_result"
    }
   ],
   "source": []
  },
  {
   "cell_type": "code",
   "execution_count": null,
   "metadata": {},
   "outputs": [],
   "source": []
  }
 ],
 "metadata": {
  "kernelspec": {
   "display_name": "Python 3",
   "language": "python",
   "name": "python3"
  },
  "language_info": {
   "codemirror_mode": {
    "name": "ipython",
    "version": 3
   },
   "file_extension": ".py",
   "mimetype": "text/x-python",
   "name": "python",
   "nbconvert_exporter": "python",
   "pygments_lexer": "ipython3",
   "version": "3.6.5"
  }
 },
 "nbformat": 4,
 "nbformat_minor": 2
}
